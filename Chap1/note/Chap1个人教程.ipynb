{
 "cells": [
  {
   "cell_type": "markdown",
   "metadata": {},
   "source": [
    "# Chap1知识点汇总"
   ]
  },
  {
   "cell_type": "markdown",
   "metadata": {},
   "source": [
    "\n",
    "## 读取文件的三种方式\n",
    "首先我们需要用python内置的函数open(\"file_path\",'r')打开文件,该函数包含两个参数。\n",
    "- \"file_path\" 代表文件的存储路径。\n",
    "- \"r\" 代表以只读的模式打开文件。\n",
    "- encoding = 'utf-8' 代表以utf-8的编码模式打开。"
   ]
  },
  {
   "cell_type": "markdown",
   "metadata": {
    "collapsed": true
   },
   "source": [
    "### read(size)\n",
    "- size参数代表打开文件的字节数，以免文件过大撑爆内存。\n",
    "不传size时read()默认一次读取整个文件，代码如下："
   ]
  },
  {
   "cell_type": "code",
   "execution_count": 20,
   "metadata": {},
   "outputs": [
    {
     "name": "stdout",
     "output_type": "stream",
     "text": [
      "北京,晴\n",
      "海淀,晴\n",
      "朝阳,晴\n",
      "顺义,晴\n",
      "怀柔,晴\n",
      "通州,晴\n",
      "昌平,晴\n",
      "延庆,晴\n",
      "丰台,晴\n",
      "石景山,晴\n"
     ]
    }
   ],
   "source": [
    "f=open(\"/Users/zjiaqiao/note/test.txt\", \"r\", encoding = 'utf-8')\n",
    "print(f.read())\n",
    "f.close()"
   ]
  },
  {
   "cell_type": "markdown",
   "metadata": {},
   "source": [
    "*⚠️文件打开后一定要关闭，因为文件对象会占用系统资源，同一时间操作系统能打开的文件数量是有限的。*"
   ]
  },
  {
   "cell_type": "markdown",
   "metadata": {},
   "source": [
    "### readline(size)\n",
    "readline()只读取文件的一行，读取完毕后，光标会移动到下一行。"
   ]
  },
  {
   "cell_type": "code",
   "execution_count": 21,
   "metadata": {},
   "outputs": [
    {
     "name": "stdout",
     "output_type": "stream",
     "text": [
      "北京,晴\n",
      "\n",
      "海淀,晴\n",
      "\n",
      "朝阳,晴\n",
      "\n"
     ]
    }
   ],
   "source": [
    "f=open(\"/Users/zjiaqiao/note/test.txt\", \"r\", encoding = 'utf-8')\n",
    "print(f.readline())\n",
    "print(f.readline())\n",
    "print(f.readline())\n",
    "f.close()"
   ]
  },
  {
   "cell_type": "markdown",
   "metadata": {},
   "source": [
    "*⚠️之所以有空行的原因是因为，print()把末尾的\\n也打印了出来*"
   ]
  },
  {
   "cell_type": "markdown",
   "metadata": {},
   "source": [
    "### readlines(size)\n",
    "readlines()一次性读取所有内容，并返回list[line1,line2,lin3]."
   ]
  },
  {
   "cell_type": "code",
   "execution_count": 22,
   "metadata": {},
   "outputs": [
    {
     "name": "stdout",
     "output_type": "stream",
     "text": [
      "['北京,晴\\n', '海淀,晴\\n', '朝阳,晴\\n', '顺义,晴\\n', '怀柔,晴\\n', '通州,晴\\n', '昌平,晴\\n', '延庆,晴\\n', '丰台,晴\\n', '石景山,晴']\n"
     ]
    }
   ],
   "source": [
    "f=open(\"/Users/zjiaqiao/note/test.txt\", \"r\", encoding = 'utf-8')\n",
    "print(f.readlines())\n",
    "f.close()"
   ]
  },
  {
   "cell_type": "markdown",
   "metadata": {},
   "source": [
    "## .strip()的用法\n",
    "- strip():删除字符串中的空字符（\\n,\\t,' '等)。\n",
    "- rstrip():删除字符串末尾的空字符。\n",
    "- lstrip():删除字符串左边的空字符。"
   ]
  },
  {
   "cell_type": "code",
   "execution_count": 23,
   "metadata": {},
   "outputs": [
    {
     "name": "stdout",
     "output_type": "stream",
     "text": [
      "北京,晴\n",
      "海淀,晴\n",
      "朝阳,晴\n",
      "顺义,晴\n",
      "怀柔,晴\n",
      "通州,晴\n",
      "昌平,晴\n",
      "延庆,晴\n",
      "丰台,晴\n",
      "石景山,晴\n"
     ]
    }
   ],
   "source": [
    "f=open(\"/Users/zjiaqiao/note/test.txt\", \"r\", encoding = 'utf-8')\n",
    "for line in f.readlines():\n",
    "    print(line.strip())\n",
    "f.close()"
   ]
  },
  {
   "cell_type": "markdown",
   "metadata": {},
   "source": [
    "## .split()的用法\n",
    "split()能将字符串以某个字符分割为list。"
   ]
  },
  {
   "cell_type": "code",
   "execution_count": 24,
   "metadata": {},
   "outputs": [
    {
     "name": "stdout",
     "output_type": "stream",
     "text": [
      "['北京', '晴']\n",
      "['海淀', '晴']\n",
      "['朝阳', '晴']\n",
      "['顺义', '晴']\n",
      "['怀柔', '晴']\n",
      "['通州', '晴']\n",
      "['昌平', '晴']\n",
      "['延庆', '晴']\n",
      "['丰台', '晴']\n",
      "['石景山', '晴']\n"
     ]
    }
   ],
   "source": [
    "f=open(\"/Users/zjiaqiao/note/test.txt\", \"r\", encoding = 'utf-8')\n",
    "for line in f.readlines():\n",
    "    print(line.strip().split(','))\n",
    "f.close()"
   ]
  }
 ],
 "metadata": {
  "kernelspec": {
   "display_name": "Python 3",
   "language": "python",
   "name": "python3"
  },
  "language_info": {
   "codemirror_mode": {
    "name": "ipython",
    "version": 3
   },
   "file_extension": ".py",
   "mimetype": "text/x-python",
   "name": "python",
   "nbconvert_exporter": "python",
   "pygments_lexer": "ipython3",
   "version": "3.6.1"
  }
 },
 "nbformat": 4,
 "nbformat_minor": 2
}
